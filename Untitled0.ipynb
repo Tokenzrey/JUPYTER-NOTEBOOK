{
  "nbformat": 4,
  "nbformat_minor": 0,
  "metadata": {
    "colab": {
      "provenance": []
    },
    "kernelspec": {
      "name": "python3",
      "display_name": "Python 3"
    },
    "language_info": {
      "name": "python"
    }
  },
  "cells": [
    {
      "cell_type": "markdown",
      "source": [
        "<center>\n",
        "  <h1>\n",
        "    TUTOR JUPYTER \n",
        "  </h1>\n",
        "</center>"
      ],
      "metadata": {
        "id": "ASMQNRHsouFq"
      }
    },
    {
      "cell_type": "markdown",
      "source": [
        "##INTRODUCTION"
      ],
      "metadata": {
        "id": "IIaEJ-EgvXr1"
      }
    },
    {
      "cell_type": "markdown",
      "source": [
        "<p>\n",
        "  Hi everyone! My name is Syarif and I'm from Indonesia. I'm currently a student pursuing my bachelor's degree. I have a strong interest in technology and data science, and I believe they hold great potential for solving real-world problems. I'm actively involved in campus organizations focused on technology development and using data for social impact. I'm excited to continue expanding my knowledge and skills in these areas and to collaborate with like-minded individuals. Thank you for your attention, and I look forward to connecting and learning together.\n",
        "</p>"
      ],
      "metadata": {
        "id": "kHngrSj_qkAY"
      }
    },
    {
      "cell_type": "markdown",
      "source": [
        "##CONTENT"
      ],
      "metadata": {
        "id": "Yz5cGhGJvbkd"
      }
    },
    {
      "cell_type": "markdown",
      "source": [
        "<h5>list data science languages : </h5>\n",
        "<ol>\n",
        "  <li><h6>Python</h6>Python is a popular programming language in data science due to its simplicity, versatility, and rich ecosystem of libraries and frameworks that enable efficient data analysis, machine learning, and visualization.</li>\n",
        "  <li><h6>R</h6>R is widely used in statistical analysis and data visualization, offering a comprehensive set of packages specifically designed for data manipulation, modeling, and graphical representation, making it a preferred choice for statisticians and researchers.</li>\n",
        "  <li><h6>SQL</h6>SQL (Structured Query Language) is essential for managing and querying relational databases, which are commonly used to store large datasets, allowing data scientists to extract, transform, and analyze data efficiently.\n",
        "</li>\n",
        "  <li><h6>Julia</h6>Julia is a high-level, high-performance programming language for technical computing, with built-in capabilities for mathematical and statistical analysis, making it suitable for complex numerical computations and scientific computing tasks.</li>\n",
        "  <li><h6>Scala</h6>Scala is a versatile language that combines object-oriented and functional programming paradigms. It is often used with Apache Spark, a popular big data processing framework, allowing data scientists to work with large-scale datasets and perform distributed computing.</li>\n",
        "  <li><h6>SAS</h6>SAS (Statistical Analysis System) is a powerful software suite widely used in data analysis, business intelligence, and predictive modeling. It offers a range of tools and libraries for data manipulation, statistical modeling, and reporting.</li>\n",
        "  <li><h6>MATLAB</h6>MATLAB is a programming language specifically designed for numerical computing and data analysis. It provides an extensive set of functions and toolboxes for mathematical operations, algorithm development, and data visualization.</li>\n",
        "  <li><h6>Java</h6>While not exclusive to data science, Java is commonly used in enterprise environments and offers various libraries and frameworks for data processing, machine learning, and big data analytics.</li>\n",
        "  <li><h6>Julia</h6>Julia is a high-level, high-performance programming language for technical computing, with built-in capabilities for mathematical and statistical analysis, making it suitable for complex numerical computations and scientific computing tasks.</li>\n",
        "  <li><h6>Perl</h6>Perl is a scripting language known for its text processing capabilities and regular expression support. It can be used for data parsing, cleaning, and transformation tasks in data science pipelines.</li>\n",
        "</ol>\n"
      ],
      "metadata": {
        "id": "3kNK2cnrrKmM"
      }
    },
    {
      "cell_type": "markdown",
      "source": [
        "<h5>list data science libraries : </h5>\n",
        "<ol>\n",
        "  <li><h6>NumPy</h6>NumPy is a fundamental library for scientific computing in Python. It provides support for large, multi-dimensional arrays and matrices, along with a collection of mathematical functions to operate on these arrays efficiently.</li>\n",
        "  <li><h6>Pandas</h6>Pandas is a powerful data manipulation and analysis library in Python. It offers data structures such as DataFrames, which allow for easy handling and manipulation of structured data, making it ideal for tasks like data cleaning, transformation, and exploration.</li>\n",
        "  <li><h6>Scikit-learn</h6>Scikit-learn is a popular machine learning library in Python. It provides a wide range of algorithms and tools for tasks such as classification, regression, clustering, and dimensionality reduction, along with utilities for model selection and evaluation.</li>\n",
        "  <li><h6>TensorFlow</h6>TensorFlow is an open-source library for machine learning and deep learning developed by Google. It provides a flexible platform for building and deploying machine learning models, especially neural networks, with extensive support for distributed computing and model optimization.</li>\n",
        "  <li><h6>Keras</h6>Keras is a high-level neural network library that runs on top of TensorFlow. It offers a user-friendly interface for building and training deep learning models, allowing for rapid prototyping and experimentation.</li>\n",
        "  <li><h6>PyTorch</h6>PyTorch is a deep learning framework known for its dynamic computation graph and extensive support for GPU acceleration. It provides a flexible and intuitive interface for building and training neural networks, making it popular among researchers and practitioners.</li>\n",
        "  <li><h6>Matplotlib</h6>Matplotlib is a plotting library in Python that provides a wide range of visualization options for creating static, animated, or interactive plots. It is commonly used for data exploration, presentation, and communication.</li>\n",
        "</ol>\n"
      ],
      "metadata": {
        "id": "vxm4pSPvqVwK"
      }
    },
    {
      "cell_type": "markdown",
      "source": [
        "<h6>Arithmetic expression examples :</h6>"
      ],
      "metadata": {
        "id": "5B1nA4fGupRs"
      }
    },
    {
      "cell_type": "markdown",
      "source": [
        "<table style=\"border-collapse: collapse; width: 100%; font-family: Arial, sans-serif;\">\n",
        "  <thead>\n",
        "    <tr style=\"background-color: #f2f2f2;\">\n",
        "      <th style=\"border: 1px solid #ddd; padding: 8px; text-align: left;\">Tool</th>\n",
        "      <th style=\"border: 1px solid #ddd; padding: 8px; text-align: left;\">Description</th>\n",
        "    </tr>\n",
        "  </thead>\n",
        "  <tbody>\n",
        "    <tr>\n",
        "      <td style=\"border: 1px solid #ddd; padding: 8px;\">Jupyter Notebook</td>\n",
        "      <td style=\"border: 1px solid #ddd; padding: 8px;\">A web-based interactive development environment for data analysis and visualization.</td>\n",
        "    </tr>\n",
        "    <tr>\n",
        "      <td style=\"border: 1px solid #ddd; padding: 8px;\">RStudio</td>\n",
        "      <td style=\"border: 1px solid #ddd; padding: 8px;\">An integrated development environment (IDE) specifically designed for R programming language.</td>\n",
        "    </tr>\n",
        "    <tr>\n",
        "      <td style=\"border: 1px solid #ddd; padding: 8px;\">Python</td>\n",
        "      <td style=\"border: 1px solid #ddd; padding: 8px;\">A widely used programming language for data analysis, machine learning, and artificial intelligence.</td>\n",
        "    </tr>\n",
        "    <tr>\n",
        "      <td style=\"border: 1px solid #ddd; padding: 8px;\">Tableau</td>\n",
        "      <td style=\"border: 1px solid #ddd; padding: 8px;\">A powerful data visualization tool that allows you to create interactive dashboards and reports.</td>\n",
        "    </tr>\n",
        "    <tr>\n",
        "      <td style=\"border: 1px solid #ddd; padding: 8px;\">Apache Spark</td>\n",
        "      <td style=\"border: 1px solid #ddd; padding: 8px;\">An open-source distributed computing system for big data processing and analytics.</td>\n",
        "    </tr>\n",
        "    <tr>\n",
        "      <td style=\"border: 1px solid #ddd; padding: 8px;\">IBM Watson Studio</td>\n",
        "      <td style=\"border: 1px solid #ddd; padding: 8px;\">A cloud-based data science platform that provides tools for data exploration, modeling, and deployment.</td>\n",
        "    </tr>\n",
        "  </tbody>\n",
        "</table>\n"
      ],
      "metadata": {
        "id": "RXvBlaXJsw6L"
      }
    },
    {
      "cell_type": "markdown",
      "source": [
        "<h6>Arithmetic Expressions : </h6>\n",
        "Arithmetic expressions are mathematical calculations that involve numbers and operators. In programming, arithmetic expressions are commonly used to perform mathematical operations and calculations.\n",
        "\n",
        "Here are some examples of arithmetic expressions:\n",
        "\n",
        "1. Addition: `3 + 4` equals 7.\n",
        "2. Subtraction: `10 - 5` equals 5.\n",
        "3. Multiplication: `2 * 6` equals 12.\n",
        "4. Division: `20 / 5` equals 4.\n",
        "5. Exponentiation: `2 ** 3` equals 8.\n",
        "6. Modulo : `15 % 4` equals 3.\n",
        "\n",
        "These examples demonstrate basic arithmetic operations, but arithmetic expressions can be more complex by combining multiple operations and using parentheses to specify the order of operations."
      ],
      "metadata": {
        "id": "I3aPTxxxuCT1"
      }
    },
    {
      "cell_type": "markdown",
      "source": [
        "<h6> Multiply and add numbers : </h6>"
      ],
      "metadata": {
        "id": "6yaDqxHfufaZ"
      }
    },
    {
      "cell_type": "code",
      "source": [
        "a = 5\n",
        "b = 3\n",
        "multiply_result = a * b\n",
        "add_result = a + b\n",
        "\n",
        "print(\"Multiplication result:\", multiply_result)\n",
        "print(\"Addition result:\", add_result)"
      ],
      "metadata": {
        "colab": {
          "base_uri": "https://localhost:8080/"
        },
        "id": "f2p92CTpunEL",
        "outputId": "4056c8c8-9708-4df2-8d5c-443c95caa0e9"
      },
      "execution_count": 1,
      "outputs": [
        {
          "output_type": "stream",
          "name": "stdout",
          "text": [
            "Multiplication result: 15\n",
            "Addition result: 8\n"
          ]
        }
      ]
    },
    {
      "cell_type": "markdown",
      "source": [
        "<h6>Code for mconvert minutes to hours : </h6>"
      ],
      "metadata": {
        "id": "NKsZ2pjau_uv"
      }
    },
    {
      "cell_type": "code",
      "source": [
        "# Convert minutes to hours\n",
        "minutes = 150\n",
        "hours = minutes / 60\n",
        "\n",
        "print(\"Minutes:\", minutes)\n",
        "print(\"Hours:\", hours)"
      ],
      "metadata": {
        "colab": {
          "base_uri": "https://localhost:8080/"
        },
        "id": "msi47p4lus0F",
        "outputId": "dfb4a5dc-52f5-4612-a30b-1f6ed79f7219"
      },
      "execution_count": 2,
      "outputs": [
        {
          "output_type": "stream",
          "name": "stdout",
          "text": [
            "Minutes: 150\n",
            "Hours: 2.5\n"
          ]
        }
      ]
    },
    {
      "cell_type": "markdown",
      "source": [
        "## Objectives"
      ],
      "metadata": {
        "id": "5FncFnKQu_Ln"
      }
    },
    {
      "cell_type": "markdown",
      "source": [
        "\n",
        "- Understand the concept of data science\n",
        "- Learn common data science tools and libraries\n",
        "- Gain proficiency in data manipulation and analysis\n",
        "- Develop skills in data visualization and interpretation\n",
        "- Explore machine learning algorithms and techniques\n",
        "- Apply statistical methods for data analysis\n",
        "- Learn to communicate findings effectively through data storytelling"
      ],
      "metadata": {
        "id": "prYGh85vv5ML"
      }
    },
    {
      "cell_type": "markdown",
      "source": [
        "AUTHOR : Muhammad Syarif H"
      ],
      "metadata": {
        "id": "Tt3ReEA0vjN3"
      }
    }
  ]
}